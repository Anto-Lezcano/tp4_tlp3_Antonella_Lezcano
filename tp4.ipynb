{
 "cells": [
  {
   "cell_type": "markdown",
   "id": "3e4771e8",
   "metadata": {},
   "source": [
    "# Trabajo Practico n4 - Introduccion a numpy.\n",
    "## Criterios de evaluación.\n",
    "\n",
    "* Se deben utilizar nombres de variables descriptivos y claros (Utilizar la nomeclatura correspondiente para los nombres de variables).\n",
    "* Comentarios claros y concisos que expliquen el propósito de cada sección del código.\n",
    "* Utilizar mensajes de commit **descriptivos**. (Puedes utilizar la extension CONVENTIONAL COMMIT de VS-CODE). \n",
    "* Entrega en tiempo y forma.\n",
    "* Todo el código desarrollado debe ser subido a un repositorio en GitHub (el nombre del repositorio de seguir la siguiente estructura: tp4_tlp3_nombre_apellido).\n",
    "* Para resolver las actividades se debe insertar casillas de codigo entre cada actividad del cuaderno de Jupyter\n",
    "\n",
    "### ¡Importante!\n",
    "**El incumplimiento de los criterios de evaluación restará puntos en la nota final del práctico!**"
   ]
  },
  {
   "cell_type": "markdown",
   "id": "6f3340d9",
   "metadata": {},
   "source": [
    "**Importaciones:**"
   ]
  },
  {
   "cell_type": "code",
   "execution_count": 2,
   "id": "783ab170",
   "metadata": {},
   "outputs": [],
   "source": [
    "import numpy as np\n",
    "from random import randint"
   ]
  },
  {
   "cell_type": "markdown",
   "id": "c5ba7292",
   "metadata": {},
   "source": [
    "**Actividad 1:**: Crea un array de NumPy que contenga los números del 0 al 9. (Debes utilizar un metodo de numpy para su creacion.)"
   ]
  },
  {
   "cell_type": "code",
   "execution_count": 22,
   "id": "75029034",
   "metadata": {},
   "outputs": [
    {
     "name": "stdout",
     "output_type": "stream",
     "text": [
      "<class 'numpy.ndarray'> : [0 1 2 3 4 5 6 7 8 9]\n"
     ]
    }
   ],
   "source": [
    "numeros = np.arange(10)\n",
    "print(type(numeros),\":\", numeros)\n"
   ]
  },
  {
   "cell_type": "markdown",
   "id": "cb894927",
   "metadata": {},
   "source": [
    "**Actividad 2:** Crea un array de 5 ceros, y luego cambia el tercer elemento (índice 2) para que sea 5. (Debes utilizar un metodo de numpy para su creacion.)"
   ]
  },
  {
   "cell_type": "code",
   "execution_count": null,
   "id": "b9cd04a0",
   "metadata": {},
   "outputs": [
    {
     "name": "stdout",
     "output_type": "stream",
     "text": [
      "[0. 0. 5. 0. 0.]\n"
     ]
    }
   ],
   "source": [
    "array_ceros = np.zeros(5)\n",
    "array_ceros[2] = 5\n",
    "\n",
    "print(array_ceros)"
   ]
  },
  {
   "cell_type": "markdown",
   "id": "000352a3",
   "metadata": {},
   "source": [
    "**Actividad 3:** Genera una matriz 3x3 de números aleatorios entre 0 y 1."
   ]
  },
  {
   "cell_type": "code",
   "execution_count": 34,
   "id": "e74354c9",
   "metadata": {},
   "outputs": [
    {
     "name": "stdout",
     "output_type": "stream",
     "text": [
      "[[0.76 0.11 0.69]\n",
      " [0.61 0.71 0.36]\n",
      " [0.74 0.87 0.9 ]]\n"
     ]
    }
   ],
   "source": [
    "matriz_3_3 = np.random.rand(3,3)\n",
    "print(np.round(matriz_3_3, 2))"
   ]
  },
  {
   "cell_type": "markdown",
   "id": "6611aaf8",
   "metadata": {},
   "source": [
    "**Actividad 4:** Dado el siguiente array `arr = np.array([10, 20, 30, 40, 50])`\n",
    "1. Suma 5 a cada elemento.\n",
    "2. Multiplica todo por un numero aleatorio (utiliza el modulo random para generarlo.)"
   ]
  },
  {
   "cell_type": "code",
   "execution_count": 44,
   "id": "ed416e11",
   "metadata": {},
   "outputs": [
    {
     "name": "stdout",
     "output_type": "stream",
     "text": [
      "El resultado de la suma de 5 a cada elemento de [10 20 30 40 50] es: [15 25 35 45 55]\n",
      "La multiplicación de 36 por cada elemento de [10 20 30 40 50] es: [ 360  720 1080 1440 1800]\n"
     ]
    }
   ],
   "source": [
    "arr = np.array([10, 20, 30, 40, 50])\n",
    "arr_sum = arr + 5\n",
    "print(f'El resultado de la suma de 5 a cada elemento de {arr} es: {arr_sum}')\n",
    "num_random = randint(1, 100)\n",
    "arr_multi = arr * num_random\n",
    "print(f'La multiplicación de {num_random} por cada elemento de {arr} es: {arr_multi}')"
   ]
  },
  {
   "cell_type": "markdown",
   "id": "fbd05c4d",
   "metadata": {},
   "source": [
    "**Actividad 5:** Crea una matriz identidad de tamaño 4x4 (unos en la diagonal principal y ceros en el resto)."
   ]
  },
  {
   "cell_type": "code",
   "execution_count": 39,
   "id": "6811c19f",
   "metadata": {},
   "outputs": [
    {
     "name": "stdout",
     "output_type": "stream",
     "text": [
      "[[1. 0. 0. 0.]\n",
      " [0. 1. 0. 0.]\n",
      " [0. 0. 1. 0.]\n",
      " [0. 0. 0. 1.]]\n"
     ]
    }
   ],
   "source": [
    "array_4x4 = np.eye(4)\n",
    "print(array_4x4)"
   ]
  },
  {
   "cell_type": "markdown",
   "id": "3ec18459",
   "metadata": {},
   "source": [
    "**Actividad 6:** Crea un array que comience en 0 hasta el 20, pero que solo tenga numeros pares yu luego realiza las 4 operaciones basicas. (suma, resta, multiplicacion, division)."
   ]
  },
  {
   "cell_type": "code",
   "execution_count": 53,
   "id": "f0c02872",
   "metadata": {},
   "outputs": [
    {
     "name": "stdout",
     "output_type": "stream",
     "text": [
      "\n",
      "El array de pares es: [ 0  2  4  6  8 10 12 14 16 18 20]\n",
      "Los calculos basicos se realizaran con el siguiente numero: 36\n",
      "La suma dio como resultado [36 38 40 42 44 46 48 50 52 54 56]\n",
      "La resta dio como resultado [-36 -34 -32 -30 -28 -26 -24 -22 -20 -18 -16]\n",
      "La division dio como resultado [0.   0.06 0.11 0.17 0.22 0.28 0.33 0.39 0.44 0.5  0.56]\n",
      "La multiplicacion dio como resultado [  0  72 144 216 288 360 432 504 576 648 720]\n"
     ]
    }
   ],
   "source": [
    "arr_pares = np.arange(0, 21, 2)\n",
    "print(f'''\n",
    "El array de pares es: {arr_pares}\n",
    "Los calculos basicos se realizaran con el siguiente numero: {num_random}''')\n",
    "#SUMA\n",
    "sum_arr_par = arr_pares + num_random\n",
    "print(f'La suma dio como resultado {sum_arr_par}')\n",
    "#RESTA\n",
    "res_arr_par = arr_pares - num_random\n",
    "print(f'La resta dio como resultado {res_arr_par}')\n",
    "#DIVISION \n",
    "div_arr_par = arr_pares / num_random\n",
    "print(f'La division dio como resultado {np.round(div_arr_par, 2)}')\n",
    "#MULTIPLICACION\n",
    "multi_arr_par = arr_pares * num_random\n",
    "print(f'La multiplicacion dio como resultado {multi_arr_par}')\n"
   ]
  }
 ],
 "metadata": {
  "kernelspec": {
   "display_name": "Python 3",
   "language": "python",
   "name": "python3"
  },
  "language_info": {
   "codemirror_mode": {
    "name": "ipython",
    "version": 3
   },
   "file_extension": ".py",
   "mimetype": "text/x-python",
   "name": "python",
   "nbconvert_exporter": "python",
   "pygments_lexer": "ipython3",
   "version": "3.13.2"
  }
 },
 "nbformat": 4,
 "nbformat_minor": 5
}
